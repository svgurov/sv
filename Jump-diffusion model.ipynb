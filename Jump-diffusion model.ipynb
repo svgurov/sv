{
 "cells": [
  {
   "cell_type": "markdown",
   "metadata": {
    "colab_type": "text",
    "id": "Hc49TgLYzZ1W"
   },
   "source": [
    "\n",
    "Calibrate the model to the implied vol curve of options on SnP500 futures (sea data from\n",
    "https://www.cmegroup.com/trading/equity-index/us-index/sandp-500_quotes_options.html?optionExpiration=H0#optionExpiration=H0&optionProductId=135&strikeRange=ATM)\n",
    "\n",
    "a. Take options maturing in May 2020 (Let $T_1$ is option's maturity)\n",
    " (note that underlying futures may have different maturity).\n",
    "\n",
    "b. Build implied vol curve for strikes around ATM level (plus/minus 10-15% from ATM at your choice). Take 7-8 strikes $K_i$ at most.\n",
    "\n",
    "c. Calibrate the model to the curve by minimizing the weighted sum of squared deviations. Assign greater weights for strikes, which are closer to ATM level. Make sure, that model parameters take values, which makes sense. For example, since significant jumps are happening once in several years, $\\lambda$ should be small.  \n",
    "\n",
    "\n",
    "Take another set of options maturing any other date later than May 2020 ($T_2$ maturity).\n",
    "Calibrate the model to fit implied curves for two maturities simultaneously.\n",
    "\n"
   ]
  },
  {
   "cell_type": "code",
   "execution_count": 0,
   "metadata": {
    "colab": {
     "base_uri": "https://localhost:8080/",
     "height": 86
    },
    "colab_type": "code",
    "id": "4P3Cxll0S0IU",
    "outputId": "b6877eff-45b5-4703-eb12-b8b705188a07"
   },
   "outputs": [
    {
     "data": {
      "text/html": [
       "        <script type=\"text/javascript\">\n",
       "        window.PlotlyConfig = {MathJaxConfig: 'local'};\n",
       "        if (window.MathJax) {MathJax.Hub.Config({SVG: {font: \"STIX-Web\"}});}\n",
       "        if (typeof require !== 'undefined') {\n",
       "        require.undef(\"plotly\");\n",
       "        requirejs.config({\n",
       "            paths: {\n",
       "                'plotly': ['https://cdn.plot.ly/plotly-latest.min']\n",
       "            }\n",
       "        });\n",
       "        require(['plotly'], function(Plotly) {\n",
       "            window._Plotly = Plotly;\n",
       "        });\n",
       "        }\n",
       "        </script>\n",
       "        "
      ]
     },
     "metadata": {
      "tags": []
     },
     "output_type": "display_data"
    },
    {
     "data": {
      "text/html": [
       "        <script type=\"text/javascript\">\n",
       "        window.PlotlyConfig = {MathJaxConfig: 'local'};\n",
       "        if (window.MathJax) {MathJax.Hub.Config({SVG: {font: \"STIX-Web\"}});}\n",
       "        if (typeof require !== 'undefined') {\n",
       "        require.undef(\"plotly\");\n",
       "        requirejs.config({\n",
       "            paths: {\n",
       "                'plotly': ['https://cdn.plot.ly/plotly-latest.min']\n",
       "            }\n",
       "        });\n",
       "        require(['plotly'], function(Plotly) {\n",
       "            window._Plotly = Plotly;\n",
       "        });\n",
       "        }\n",
       "        </script>\n",
       "        "
      ]
     },
     "metadata": {
      "tags": []
     },
     "output_type": "display_data"
    },
    {
     "name": "stderr",
     "output_type": "stream",
     "text": [
      "/usr/local/lib/python3.6/dist-packages/statsmodels/tools/_testing.py:19: FutureWarning:\n",
      "\n",
      "pandas.util.testing is deprecated. Use the functions in the public API at pandas.testing instead.\n",
      "\n"
     ]
    }
   ],
   "source": [
    "import math\n",
    "import matplotlib.pyplot as plt \n",
    "import numpy as np  # NumPy\n",
    "import pandas as pd  # pandas\n",
    "import cufflinks as cf  # Cufflinks\n",
    "from scipy.integrate import quad\n",
    "import configparser as cp\n",
    "cf.set_config_file(offline=True)  # set the plotting mode to offline\n",
    "from scipy import stats\n",
    "from scipy.stats import norm\n",
    "from math import factorial\n",
    "from scipy.optimize import fsolve\n",
    "import matplotlib.pyplot as plt\n",
    "import seaborn as sns\n",
    "%matplotlib inline"
   ]
  },
  {
   "cell_type": "markdown",
   "metadata": {
    "colab_type": "text",
    "id": "BbwWMDTcIqyP"
   },
   "source": [
    "## 2.a)"
   ]
  },
  {
   "cell_type": "markdown",
   "metadata": {
    "colab_type": "text",
    "id": "_mRSe9YeqLQL"
   },
   "source": [
    "We took options maturing in May 2020 from the cme website."
   ]
  },
  {
   "cell_type": "code",
   "execution_count": 0,
   "metadata": {
    "colab": {
     "base_uri": "https://localhost:8080/",
     "height": 138
    },
    "colab_type": "code",
    "id": "uKBeum4Fnpzd",
    "outputId": "1d500c48-ee6a-4ed1-d379-3e7d36b5c6b2"
   },
   "outputs": [
    {
     "data": {
      "text/plain": [
       "{1.2: 3170,\n",
       " 5.5: 3070,\n",
       " 26.6: 2975,\n",
       " 74.6: 2880,\n",
       " 145: 2780,\n",
       " 226.2: 2680,\n",
       " 296.7: 2600}"
      ]
     },
     "execution_count": 2,
     "metadata": {
      "tags": []
     },
     "output_type": "execute_result"
    }
   ],
   "source": [
    "r = 0.001 \n",
    "\n",
    "t = 16/252 #16 days until expiration\n",
    "F = 2880\n",
    "\n",
    "K = [2880, 2780, 2680, 2600, 2975, 3070, 3170]\n",
    "C = [74.6, 145, 226.2, 296.7, 26.6, 5.5, 1.2]\n",
    "\n",
    "op = {i: j for i,j in zip(C, K)}\n",
    "op"
   ]
  },
  {
   "cell_type": "code",
   "execution_count": 0,
   "metadata": {
    "colab": {},
    "colab_type": "code",
    "id": "uDIniPWFmpa2"
   },
   "outputs": [],
   "source": [
    "def callf(r,t,F,K,vol):\n",
    "  d1=1/(vol* np.sqrt(t)) * (np.log(F/K) + 0.5 * (vol ** 2) * t)\n",
    "  d2=d1-vol * np.sqrt(t)\n",
    "  c = np.exp(-r*t) * ( norm.cdf(d1) * F -  norm.cdf(d2) * K)\n",
    "  return c"
   ]
  },
  {
   "cell_type": "code",
   "execution_count": 0,
   "metadata": {
    "colab": {
     "base_uri": "https://localhost:8080/",
     "height": 138
    },
    "colab_type": "code",
    "id": "EClmMnpxmqWE",
    "outputId": "d4bb2515-b489-4050-9226-3ed388e5b7d2"
   },
   "outputs": [
    {
     "data": {
      "text/plain": [
       "{2600: 0.3641149257220977,\n",
       " 2680: 0.33788102257222596,\n",
       " 2780: 0.30208789211577897,\n",
       " 2880: 0.25773918119533434,\n",
       " 2975: 0.21426071213173173,\n",
       " 3070: 0.18567864626811703,\n",
       " 3170: 0.18963385574672242}"
      ]
     },
     "execution_count": 4,
     "metadata": {
      "tags": []
     },
     "output_type": "execute_result"
    }
   ],
   "source": [
    "volat = {}\n",
    "\n",
    "for i in op.items():\n",
    "\n",
    "  call, strike = i[0], i[1]\n",
    "  fnc = lambda volatility: callf(r, t, F, strike, volatility) - call\n",
    "  volat[strike] = fsolve(fnc, 0.1)[0]  # hist vol as guess point\n",
    "volat"
   ]
  },
  {
   "cell_type": "markdown",
   "metadata": {
    "colab_type": "text",
    "id": "Pa6xPvpbIwyD"
   },
   "source": [
    "## 2.b)"
   ]
  },
  {
   "cell_type": "markdown",
   "metadata": {
    "colab_type": "text",
    "id": "kazzbuG6Y1Mf"
   },
   "source": [
    "Now let's build implied vol curve for strikes around ATM level."
   ]
  },
  {
   "cell_type": "code",
   "execution_count": 0,
   "metadata": {
    "colab": {
     "base_uri": "https://localhost:8080/",
     "height": 352
    },
    "colab_type": "code",
    "id": "LgsaNrsGmqSc",
    "outputId": "2765d60e-52a5-4f00-a62e-1cda1b39b1af"
   },
   "outputs": [
    {
     "name": "stderr",
     "output_type": "stream",
     "text": [
      "No handles with labels found to put in legend.\n"
     ]
    },
    {
     "data": {
      "image/png": "[encoded data removed]",
      "text/plain": [
       "<Figure size 648x360 with 1 Axes>"
      ]
     },
     "metadata": {
      "needs_background": "light",
      "tags": []
     },
     "output_type": "display_data"
    }
   ],
   "source": [
    "fields = ['STRIKE_PRC', 'CF_CLOSE', 'IMP_VOLT','WEIGHT', 'MATUR']\n",
    "df = pd.DataFrame(columns = fields)\n",
    "df = df.append({'STRIKE_PRC': 2600 , 'CF_CLOSE': 296.7 , 'IMP_VOLT': 0.364115, 'WEIGHT': 0.3, 'MATUR': 16}, ignore_index=True)\n",
    "df = df.append({'STRIKE_PRC': 2680 , 'CF_CLOSE': 226.2 , 'IMP_VOLT': 0.337881, 'WEIGHT': 0.6, 'MATUR': 16}, ignore_index=True)\n",
    "df = df.append({'STRIKE_PRC': 2780 , 'CF_CLOSE': 145 , 'IMP_VOLT': 0.302088, 'WEIGHT': 0.9, 'MATUR': 16}, ignore_index=True)\n",
    "df = df.append({'STRIKE_PRC': 2880 , 'CF_CLOSE': 74.6 , 'IMP_VOLT': 0.257739, 'WEIGHT': 1, 'MATUR': 16}, ignore_index=True)\n",
    "df = df.append({'STRIKE_PRC': 2975 , 'CF_CLOSE': 26.6 , 'IMP_VOLT': 0.214261, 'WEIGHT': 0.9, 'MATUR': 16}, ignore_index=True)\n",
    "df = df.append({'STRIKE_PRC': 3070 , 'CF_CLOSE': 5.5 , 'IMP_VOLT': 0.185679, 'WEIGHT': 0.6, 'MATUR': 16}, ignore_index=True)\n",
    "df = df.append({'STRIKE_PRC': 3170 , 'CF_CLOSE': 1.2 , 'IMP_VOLT': 0.189634, 'WEIGHT': 0.3, 'MATUR': 16}, ignore_index=True)\n",
    "df\n",
    "\n",
    "plt.figure(figsize = (9, 5))\n",
    "sns.lineplot(x=df.STRIKE_PRC,y=df.IMP_VOLT)\n",
    "\n",
    "plt.legend()\n",
    "plt.xlabel('Strike')\n",
    "plt.ylabel('Volatility')\n",
    "plt.grid()\n",
    "plt.show()"
   ]
  },
  {
   "cell_type": "markdown",
   "metadata": {
    "colab_type": "text",
    "id": "MHn0dV_FI-1x"
   },
   "source": [
    "The graph above plots the implied volatilies at diffrent strike prices. For large K we can observe a an upwardsloping \"leg\"."
   ]
  },
  {
   "cell_type": "code",
   "execution_count": 0,
   "metadata": {
    "colab": {
     "base_uri": "https://localhost:8080/",
     "height": 264
    },
    "colab_type": "code",
    "id": "aOJXWIWDFk1f",
    "outputId": "670712b0-58ae-4251-a059-2ab715fe5812"
   },
   "outputs": [
    {
     "data": {
      "text/html": [
       "<div>\n",
       "<style scoped>\n",
       "    .dataframe tbody tr th:only-of-type {\n",
       "        vertical-align: middle;\n",
       "    }\n",
       "\n",
       "    .dataframe tbody tr th {\n",
       "        vertical-align: top;\n",
       "    }\n",
       "\n",
       "    .dataframe thead th {\n",
       "        text-align: right;\n",
       "    }\n",
       "</style>\n",
       "<table border=\"1\" class=\"dataframe\">\n",
       "  <thead>\n",
       "    <tr style=\"text-align: right;\">\n",
       "      <th></th>\n",
       "      <th>STRIKE_PRC</th>\n",
       "      <th>CF_CLOSE</th>\n",
       "      <th>IMP_VOLT</th>\n",
       "      <th>WEIGHT</th>\n",
       "      <th>MATUR</th>\n",
       "    </tr>\n",
       "  </thead>\n",
       "  <tbody>\n",
       "    <tr>\n",
       "      <th>0</th>\n",
       "      <td>2600.0</td>\n",
       "      <td>296.7</td>\n",
       "      <td>0.364115</td>\n",
       "      <td>0.3</td>\n",
       "      <td>16.0</td>\n",
       "    </tr>\n",
       "    <tr>\n",
       "      <th>1</th>\n",
       "      <td>2680.0</td>\n",
       "      <td>226.2</td>\n",
       "      <td>0.337881</td>\n",
       "      <td>0.6</td>\n",
       "      <td>16.0</td>\n",
       "    </tr>\n",
       "    <tr>\n",
       "      <th>2</th>\n",
       "      <td>2780.0</td>\n",
       "      <td>145.0</td>\n",
       "      <td>0.302088</td>\n",
       "      <td>0.9</td>\n",
       "      <td>16.0</td>\n",
       "    </tr>\n",
       "    <tr>\n",
       "      <th>3</th>\n",
       "      <td>2880.0</td>\n",
       "      <td>74.6</td>\n",
       "      <td>0.257739</td>\n",
       "      <td>1.0</td>\n",
       "      <td>16.0</td>\n",
       "    </tr>\n",
       "    <tr>\n",
       "      <th>4</th>\n",
       "      <td>2975.0</td>\n",
       "      <td>26.6</td>\n",
       "      <td>0.214261</td>\n",
       "      <td>0.9</td>\n",
       "      <td>16.0</td>\n",
       "    </tr>\n",
       "    <tr>\n",
       "      <th>5</th>\n",
       "      <td>3070.0</td>\n",
       "      <td>5.5</td>\n",
       "      <td>0.185679</td>\n",
       "      <td>0.6</td>\n",
       "      <td>16.0</td>\n",
       "    </tr>\n",
       "    <tr>\n",
       "      <th>6</th>\n",
       "      <td>3170.0</td>\n",
       "      <td>1.2</td>\n",
       "      <td>0.189634</td>\n",
       "      <td>0.3</td>\n",
       "      <td>16.0</td>\n",
       "    </tr>\n",
       "  </tbody>\n",
       "</table>\n",
       "</div>"
      ],
      "text/plain": [
       "   STRIKE_PRC  CF_CLOSE  IMP_VOLT  WEIGHT  MATUR\n",
       "0      2600.0     296.7  0.364115     0.3   16.0\n",
       "1      2680.0     226.2  0.337881     0.6   16.0\n",
       "2      2780.0     145.0  0.302088     0.9   16.0\n",
       "3      2880.0      74.6  0.257739     1.0   16.0\n",
       "4      2975.0      26.6  0.214261     0.9   16.0\n",
       "5      3070.0       5.5  0.185679     0.6   16.0\n",
       "6      3170.0       1.2  0.189634     0.3   16.0"
      ]
     },
     "execution_count": 6,
     "metadata": {
      "tags": []
     },
     "output_type": "execute_result"
    }
   ],
   "source": [
    "df"
   ]
  },
  {
   "cell_type": "markdown",
   "metadata": {
    "colab_type": "text",
    "id": "C2aihEJ3IzKg"
   },
   "source": [
    "## 2.c)"
   ]
  },
  {
   "cell_type": "markdown",
   "metadata": {
    "colab_type": "text",
    "id": "2GLtz97K6ary"
   },
   "source": [
    "Let's calibrate the model to the curve by minimizing the weighted sum of squared deviations. \n",
    "\n"
   ]
  },
  {
   "cell_type": "code",
   "execution_count": 0,
   "metadata": {
    "colab": {},
    "colab_type": "code",
    "id": "ritPDy6TxNk7"
   },
   "outputs": [],
   "source": [
    "def call_futures(r, T, F, K, vol):\n",
    "  d1 = 1/(np.sqrt(T)*vol)*(np.log(F/K) + r*T + 1/2*(vol**2)*T)\n",
    "  d2 = d1 - vol*np.sqrt(T)\n",
    "  callfut = F*norm.cdf(d1)-np.exp(-r*T)*K*norm.cdf(d2)\n",
    "  return callfut"
   ]
  },
  {
   "cell_type": "code",
   "execution_count": 0,
   "metadata": {
    "colab": {},
    "colab_type": "code",
    "id": "C1pCtDliydT8"
   },
   "outputs": [],
   "source": [
    "def voljump(T,j,sigma,s):\n",
    "  voljmp=j*(s**2)/T+sigma**2\n",
    "  return voljmp"
   ]
  },
  {
   "cell_type": "code",
   "execution_count": 0,
   "metadata": {
    "colab": {},
    "colab_type": "code",
    "id": "TaI_XQkPy9Rf"
   },
   "outputs": [],
   "source": [
    "def fjump(F,T,j,lmbda,m,s):\n",
    "  k=np.exp(0.5*s**2+m)-1\n",
    "  fjum=F*np.exp(j*(m+0.5*s**2)-lmbda*k*T)\n",
    "  return fjum"
   ]
  },
  {
   "cell_type": "code",
   "execution_count": 0,
   "metadata": {
    "colab": {},
    "colab_type": "code",
    "id": "3SBBpHjwzbEz"
   },
   "outputs": [],
   "source": [
    "def call_futures_jump(r,F,K,T,j,lmbda,m,s,sigma):\n",
    "  fj=fjump(F,T,j,lmbda,m,s)\n",
    "  volj=voljump(T,j,sigma,s)**0.5\n",
    "  call_fut_jump=call_futures(r,T,fj,K,volj)\n",
    "  return call_fut_jump\n"
   ]
  },
  {
   "cell_type": "code",
   "execution_count": 0,
   "metadata": {
    "colab": {},
    "colab_type": "code",
    "id": "MGXIxhfT0OEk"
   },
   "outputs": [],
   "source": [
    "def M76_value_call_INT(F, K, T, r, sigma, lmbda, m, s):\n",
    "  value=0\n",
    "  for i in range(100):\n",
    "    value+=np.exp(-lmbda*T)*((lmbda*T)**i)/math.factorial(i)*call_futures_jump(r,F,K,T,i,lmbda,m,s,sigma)\n",
    "  return value"
   ]
  },
  {
   "cell_type": "code",
   "execution_count": 0,
   "metadata": {
    "colab": {},
    "colab_type": "code",
    "id": "5_X2wmjQ-ujz"
   },
   "outputs": [],
   "source": [
    "ind = 2880 #index\n",
    "r = 0.001 #interest rate\n"
   ]
  },
  {
   "cell_type": "markdown",
   "metadata": {
    "colab_type": "text",
    "id": "i3kfsUo72qXf"
   },
   "source": [
    "Error function:"
   ]
  },
  {
   "cell_type": "code",
   "execution_count": 0,
   "metadata": {
    "colab": {},
    "colab_type": "code",
    "id": "D2AXdBgf-pEl"
   },
   "outputs": [],
   "source": [
    "i = 0; min_RMSE = 100.\n",
    "def M76_error_function(p0):\n",
    "    global i, min_RMSE\n",
    "    sigma, lamb, mu, delta = p0\n",
    "    if sigma < 0.0 or delta < 0.0 or lamb < 0.0:\n",
    "        return 500.0\n",
    "    se = []\n",
    "    for row, option in df.iterrows():\n",
    "        T = option['MATUR'] / 252\n",
    "        model_value = M76_value_call_INT(ind, option['STRIKE_PRC'], T,\n",
    "                                         r, sigma, lamb, mu, delta)\n",
    "        se.append(option['WEIGHT']*(sigma - option['IMP_VOLT']) ** 2)\n",
    "\n",
    "    RMSE = math.sqrt(sum(se) / len(se))\n",
    "    min_RMSE = min(min_RMSE, RMSE)\n",
    "    if i % 100 == 0:\n",
    "        print ('%4d |' % i, np.array(p0), '| %7.3f | %7.3f' % (RMSE, min_RMSE))\n",
    "    i += 1\n",
    "    return RMSE"
   ]
  },
  {
   "cell_type": "markdown",
   "metadata": {
    "colab_type": "text",
    "id": "rIr9hHaXeTfF"
   },
   "source": [
    "Global optimization:"
   ]
  },
  {
   "cell_type": "code",
   "execution_count": 0,
   "metadata": {
    "colab": {
     "base_uri": "https://localhost:8080/",
     "height": 208
    },
    "colab_type": "code",
    "id": "7wLjAFC8GC5J",
    "outputId": "6d208660-3c08-4e42-a8e3-429bcdadf58a"
   },
   "outputs": [
    {
     "name": "stdout",
     "output_type": "stream",
     "text": [
      "   0 | [ 0.100  0.100 -0.400  0.000] |   0.139 |   0.139\n",
      " 100 | [ 0.100  0.400 -0.300  0.080] |   0.139 |   0.139\n",
      " 200 | [ 0.100  0.700 -0.100  0.040] |   0.139 |   0.139\n",
      " 300 | [ 0.125  0.400 -0.400  0.000] |   0.120 |   0.120\n",
      " 400 | [ 0.125  0.700 -0.300  0.080] |   0.120 |   0.120\n",
      " 500 | [ 0.150  0.300 -0.100  0.040] |   0.102 |   0.102\n",
      " 600 | [ 0.150  0.700 -0.400  0.000] |   0.102 |   0.102\n",
      " 700 | [ 0.175  0.300 -0.300  0.080] |   0.084 |   0.084\n",
      " 800 | [ 0.175  0.600 -0.100  0.040] |   0.084 |   0.084\n",
      "CPU times: user 2min 5s, sys: 281 ms, total: 2min 5s\n",
      "Wall time: 2min 5s\n"
     ]
    }
   ],
   "source": [
    "%%time\n",
    "import scipy.optimize as sop\n",
    "np.set_printoptions(suppress=True,\n",
    "                    formatter={'all': lambda x: '%6.3f' % x})\n",
    "p0 = sop.brute(M76_error_function, ((0.10, 0.2, 0.025),\n",
    "                   (0.10, 0.80, 0.10), (-0.40, 0.01, 0.10),\n",
    "                   (0.00, 0.120, 0.02)), finish=None)"
   ]
  },
  {
   "cell_type": "markdown",
   "metadata": {
    "colab_type": "text",
    "id": "bGIL1GmheW61"
   },
   "source": [
    "Local optimization:"
   ]
  },
  {
   "cell_type": "code",
   "execution_count": 0,
   "metadata": {
    "colab": {
     "base_uri": "https://localhost:8080/",
     "height": 156
    },
    "colab_type": "code",
    "id": "6ukXeriwJr-f",
    "outputId": "f6db8816-f47d-4acb-9098-60ef89beff46"
   },
   "outputs": [
    {
     "name": "stdout",
     "output_type": "stream",
     "text": [
      " 900 | [ 0.262  0.100 -0.285  0.000] |   0.047 |   0.047\n",
      "1000 | [ 0.261  0.100 -0.283  0.000] |   0.047 |   0.047\n",
      "Optimization terminated successfully.\n",
      "         Current function value: 0.046542\n",
      "         Iterations: 109\n",
      "         Function evaluations: 204\n",
      "CPU times: user 29.9 s, sys: 55.9 ms, total: 30 s\n",
      "Wall time: 29.9 s\n"
     ]
    }
   ],
   "source": [
    "%%time\n",
    "opt = sop.fmin(M76_error_function, p0, xtol=0.0000001,\n",
    "                    ftol=0.0000001, maxiter=750, maxfun=1500)"
   ]
  },
  {
   "cell_type": "code",
   "execution_count": 0,
   "metadata": {
    "colab": {},
    "colab_type": "code",
    "id": "LEyEVzR8Jys_"
   },
   "outputs": [],
   "source": [
    "sigma, lamb, mu, delta = opt\n",
    "df['MODEL_PRICE'] = 0.0\n",
    "for row, option in df.iterrows():\n",
    "    T = option['MATUR'] / 252\n",
    "    df.loc[row, 'MODEL_PRICE'] = M76_value_call_INT(ind, option['STRIKE_PRC'],\n",
    "                                T, r, sigma, lamb, mu, delta)\n",
    "df['MATUR']=16"
   ]
  },
  {
   "cell_type": "code",
   "execution_count": 0,
   "metadata": {
    "colab": {
     "base_uri": "https://localhost:8080/",
     "height": 264
    },
    "colab_type": "code",
    "id": "oiOtKVZCJzfx",
    "outputId": "c3de90e8-8b85-4107-aabc-000559a4e0cf"
   },
   "outputs": [
    {
     "data": {
      "text/html": [
       "<div>\n",
       "<style scoped>\n",
       "    .dataframe tbody tr th:only-of-type {\n",
       "        vertical-align: middle;\n",
       "    }\n",
       "\n",
       "    .dataframe tbody tr th {\n",
       "        vertical-align: top;\n",
       "    }\n",
       "\n",
       "    .dataframe thead th {\n",
       "        text-align: right;\n",
       "    }\n",
       "</style>\n",
       "<table border=\"1\" class=\"dataframe\">\n",
       "  <thead>\n",
       "    <tr style=\"text-align: right;\">\n",
       "      <th></th>\n",
       "      <th>STRIKE_PRC</th>\n",
       "      <th>CF_CLOSE</th>\n",
       "      <th>IMP_VOLT</th>\n",
       "      <th>WEIGHT</th>\n",
       "      <th>MATUR</th>\n",
       "      <th>MODEL_PRICE</th>\n",
       "    </tr>\n",
       "  </thead>\n",
       "  <tbody>\n",
       "    <tr>\n",
       "      <th>0</th>\n",
       "      <td>2600.0</td>\n",
       "      <td>296.7</td>\n",
       "      <td>0.364115</td>\n",
       "      <td>0.3</td>\n",
       "      <td>16</td>\n",
       "      <td>287.257875</td>\n",
       "    </tr>\n",
       "    <tr>\n",
       "      <th>1</th>\n",
       "      <td>2680.0</td>\n",
       "      <td>226.2</td>\n",
       "      <td>0.337881</td>\n",
       "      <td>0.6</td>\n",
       "      <td>16</td>\n",
       "      <td>215.440642</td>\n",
       "    </tr>\n",
       "    <tr>\n",
       "      <th>2</th>\n",
       "      <td>2780.0</td>\n",
       "      <td>145.0</td>\n",
       "      <td>0.302088</td>\n",
       "      <td>0.9</td>\n",
       "      <td>16</td>\n",
       "      <td>137.295856</td>\n",
       "    </tr>\n",
       "    <tr>\n",
       "      <th>3</th>\n",
       "      <td>2880.0</td>\n",
       "      <td>74.6</td>\n",
       "      <td>0.257739</td>\n",
       "      <td>1.0</td>\n",
       "      <td>16</td>\n",
       "      <td>77.605712</td>\n",
       "    </tr>\n",
       "    <tr>\n",
       "      <th>4</th>\n",
       "      <td>2975.0</td>\n",
       "      <td>26.6</td>\n",
       "      <td>0.214261</td>\n",
       "      <td>0.9</td>\n",
       "      <td>16</td>\n",
       "      <td>39.849616</td>\n",
       "    </tr>\n",
       "    <tr>\n",
       "      <th>5</th>\n",
       "      <td>3070.0</td>\n",
       "      <td>5.5</td>\n",
       "      <td>0.185679</td>\n",
       "      <td>0.6</td>\n",
       "      <td>16</td>\n",
       "      <td>17.993327</td>\n",
       "    </tr>\n",
       "    <tr>\n",
       "      <th>6</th>\n",
       "      <td>3170.0</td>\n",
       "      <td>1.2</td>\n",
       "      <td>0.189634</td>\n",
       "      <td>0.3</td>\n",
       "      <td>16</td>\n",
       "      <td>6.764744</td>\n",
       "    </tr>\n",
       "  </tbody>\n",
       "</table>\n",
       "</div>"
      ],
      "text/plain": [
       "   STRIKE_PRC  CF_CLOSE  IMP_VOLT  WEIGHT  MATUR  MODEL_PRICE\n",
       "0      2600.0     296.7  0.364115     0.3     16   287.257875\n",
       "1      2680.0     226.2  0.337881     0.6     16   215.440642\n",
       "2      2780.0     145.0  0.302088     0.9     16   137.295856\n",
       "3      2880.0      74.6  0.257739     1.0     16    77.605712\n",
       "4      2975.0      26.6  0.214261     0.9     16    39.849616\n",
       "5      3070.0       5.5  0.185679     0.6     16    17.993327\n",
       "6      3170.0       1.2  0.189634     0.3     16     6.764744"
      ]
     },
     "execution_count": 19,
     "metadata": {
      "tags": []
     },
     "output_type": "execute_result"
    }
   ],
   "source": [
    "df"
   ]
  },
  {
   "cell_type": "code",
   "execution_count": 0,
   "metadata": {
    "colab": {
     "base_uri": "https://localhost:8080/",
     "height": 86
    },
    "colab_type": "code",
    "id": "ojYsE8NbUKKN",
    "outputId": "8209f5c0-dc52-44e3-cb67-7ee996f1e96f"
   },
   "outputs": [
    {
     "name": "stdout",
     "output_type": "stream",
     "text": [
      "sigma = 0.2614595229958683\n",
      "lambda = 0.09968941240858464\n",
      "mu = -0.2827022600642902\n",
      "delta = 0.00017339313568586303\n"
     ]
    }
   ],
   "source": [
    "print('sigma = ' + str(opt[0])) #constant volatility of diffusion\n",
    "print('lambda = ' + str(opt[1])) #jump frequency \n",
    "print('mu = ' + str(opt[2])) #expected jump size\n",
    "print('delta = ' + str(opt[3])) #jump size volatility"
   ]
  },
  {
   "cell_type": "markdown",
   "metadata": {
    "colab_type": "text",
    "id": "ukd6SItlEwrM"
   },
   "source": [
    "Above we can see the values for the 4 estimated parameters based on calibration of implied volatilities. Note, that lambda is quite small, which may be a good apporximation of reality. In other words, jumps occurs infrequently. At the same time, dela is close to zero, while mu is negative. Also, the optimal sigma is in admissiable range."
   ]
  },
  {
   "cell_type": "markdown",
   "metadata": {
    "colab_type": "text",
    "id": "uwWf2KKTI2rg"
   },
   "source": [
    "## 3)"
   ]
  },
  {
   "cell_type": "markdown",
   "metadata": {
    "colab_type": "text",
    "id": "aheRzpbacW2F"
   },
   "source": [
    "Let's take another set of options maturing in June 2020 and calibrate the  model to fit implied curves for two maturities simultaneously."
   ]
  },
  {
   "cell_type": "code",
   "execution_count": 0,
   "metadata": {
    "colab": {
     "base_uri": "https://localhost:8080/",
     "height": 138
    },
    "colab_type": "code",
    "id": "dX3OyOdkXTPA",
    "outputId": "99b2da4f-b572-48d9-e71d-ce74a2d7e0a5"
   },
   "outputs": [
    {
     "data": {
      "text/plain": [
       "{11.3: 3170,\n",
       " 31: 3070,\n",
       " 65.3: 2980,\n",
       " 107.8: 2900,\n",
       " 185.9: 2780,\n",
       " 260.5: 2680,\n",
       " 324.5: 2600}"
      ]
     },
     "execution_count": 21,
     "metadata": {
      "tags": []
     },
     "output_type": "execute_result"
    }
   ],
   "source": [
    "r = 0.001\n",
    "mat = 38 #days until maturity\n",
    "t1 = mat/252\n",
    "F1 = 2871.1\n",
    "\n",
    "K1 = [2900, 2780, 2680, 2600, 2980, 3070, 3170]\n",
    "C1 = [107.8, 185.9, 260.5,324.5, 65.3, 31, 11.3]\n",
    "\n",
    "op1 = {i: j for i,j in zip(C1, K1)}\n",
    "op1"
   ]
  },
  {
   "cell_type": "code",
   "execution_count": 0,
   "metadata": {
    "colab": {
     "base_uri": "https://localhost:8080/",
     "height": 138
    },
    "colab_type": "code",
    "id": "zNObzOhQgTe3",
    "outputId": "495eb3e4-3ece-4e16-c26c-23146dd93be9"
   },
   "outputs": [
    {
     "data": {
      "text/plain": [
       "{2600: 0.359459107823619,\n",
       " 2680: 0.3386588894632575,\n",
       " 2780: 0.3098446018255173,\n",
       " 2900: 0.2724206877453611,\n",
       " 2980: 0.24590444510469722,\n",
       " 3070: 0.21901192931793015,\n",
       " 3170: 0.20031310619904255}"
      ]
     },
     "execution_count": 22,
     "metadata": {
      "tags": []
     },
     "output_type": "execute_result"
    }
   ],
   "source": [
    "volat1 = {}\n",
    "\n",
    "for i in op1.items():\n",
    "\n",
    "  call, strike = i[0], i[1]\n",
    "  fnc = lambda volatility: callf(r, t1, F1, strike, volatility) - call\n",
    "  volat1[strike] = fsolve(fnc, 0.1)[0]  # hist vol as guess point\n",
    "volat1"
   ]
  },
  {
   "cell_type": "code",
   "execution_count": 0,
   "metadata": {
    "colab": {
     "base_uri": "https://localhost:8080/",
     "height": 478
    },
    "colab_type": "code",
    "id": "x7Zm_yUyb0kB",
    "outputId": "da4961cc-a6b0-4643-d841-fb2d59761a83"
   },
   "outputs": [
    {
     "data": {
      "text/html": [
       "<div>\n",
       "<style scoped>\n",
       "    .dataframe tbody tr th:only-of-type {\n",
       "        vertical-align: middle;\n",
       "    }\n",
       "\n",
       "    .dataframe tbody tr th {\n",
       "        vertical-align: top;\n",
       "    }\n",
       "\n",
       "    .dataframe thead th {\n",
       "        text-align: right;\n",
       "    }\n",
       "</style>\n",
       "<table border=\"1\" class=\"dataframe\">\n",
       "  <thead>\n",
       "    <tr style=\"text-align: right;\">\n",
       "      <th></th>\n",
       "      <th>STRIKE_PRC</th>\n",
       "      <th>CF_CLOSE</th>\n",
       "      <th>IMP_VOLT</th>\n",
       "      <th>WEIGHT</th>\n",
       "      <th>MATUR</th>\n",
       "      <th>MODEL_PRICE</th>\n",
       "    </tr>\n",
       "  </thead>\n",
       "  <tbody>\n",
       "    <tr>\n",
       "      <th>0</th>\n",
       "      <td>2600.0</td>\n",
       "      <td>296.7</td>\n",
       "      <td>0.364115</td>\n",
       "      <td>0.3</td>\n",
       "      <td>16.0</td>\n",
       "      <td>287.257875</td>\n",
       "    </tr>\n",
       "    <tr>\n",
       "      <th>1</th>\n",
       "      <td>2680.0</td>\n",
       "      <td>226.2</td>\n",
       "      <td>0.337881</td>\n",
       "      <td>0.6</td>\n",
       "      <td>16.0</td>\n",
       "      <td>215.440642</td>\n",
       "    </tr>\n",
       "    <tr>\n",
       "      <th>2</th>\n",
       "      <td>2780.0</td>\n",
       "      <td>145.0</td>\n",
       "      <td>0.302088</td>\n",
       "      <td>0.9</td>\n",
       "      <td>16.0</td>\n",
       "      <td>137.295856</td>\n",
       "    </tr>\n",
       "    <tr>\n",
       "      <th>3</th>\n",
       "      <td>2880.0</td>\n",
       "      <td>74.6</td>\n",
       "      <td>0.257739</td>\n",
       "      <td>1.0</td>\n",
       "      <td>16.0</td>\n",
       "      <td>77.605712</td>\n",
       "    </tr>\n",
       "    <tr>\n",
       "      <th>4</th>\n",
       "      <td>2975.0</td>\n",
       "      <td>26.6</td>\n",
       "      <td>0.214261</td>\n",
       "      <td>0.9</td>\n",
       "      <td>16.0</td>\n",
       "      <td>39.849616</td>\n",
       "    </tr>\n",
       "    <tr>\n",
       "      <th>5</th>\n",
       "      <td>3070.0</td>\n",
       "      <td>5.5</td>\n",
       "      <td>0.185679</td>\n",
       "      <td>0.6</td>\n",
       "      <td>16.0</td>\n",
       "      <td>17.993327</td>\n",
       "    </tr>\n",
       "    <tr>\n",
       "      <th>6</th>\n",
       "      <td>3170.0</td>\n",
       "      <td>1.2</td>\n",
       "      <td>0.189634</td>\n",
       "      <td>0.3</td>\n",
       "      <td>16.0</td>\n",
       "      <td>6.764744</td>\n",
       "    </tr>\n",
       "    <tr>\n",
       "      <th>7</th>\n",
       "      <td>2600.0</td>\n",
       "      <td>324.5</td>\n",
       "      <td>0.359459</td>\n",
       "      <td>0.3</td>\n",
       "      <td>38.0</td>\n",
       "      <td>NaN</td>\n",
       "    </tr>\n",
       "    <tr>\n",
       "      <th>8</th>\n",
       "      <td>2680.0</td>\n",
       "      <td>260.5</td>\n",
       "      <td>0.338659</td>\n",
       "      <td>0.6</td>\n",
       "      <td>38.0</td>\n",
       "      <td>NaN</td>\n",
       "    </tr>\n",
       "    <tr>\n",
       "      <th>9</th>\n",
       "      <td>2780.0</td>\n",
       "      <td>185.9</td>\n",
       "      <td>0.309845</td>\n",
       "      <td>0.9</td>\n",
       "      <td>38.0</td>\n",
       "      <td>NaN</td>\n",
       "    </tr>\n",
       "    <tr>\n",
       "      <th>10</th>\n",
       "      <td>2900.0</td>\n",
       "      <td>107.8</td>\n",
       "      <td>0.272421</td>\n",
       "      <td>1.0</td>\n",
       "      <td>38.0</td>\n",
       "      <td>NaN</td>\n",
       "    </tr>\n",
       "    <tr>\n",
       "      <th>11</th>\n",
       "      <td>2980.0</td>\n",
       "      <td>65.3</td>\n",
       "      <td>0.245904</td>\n",
       "      <td>0.9</td>\n",
       "      <td>38.0</td>\n",
       "      <td>NaN</td>\n",
       "    </tr>\n",
       "    <tr>\n",
       "      <th>12</th>\n",
       "      <td>3070.0</td>\n",
       "      <td>31.0</td>\n",
       "      <td>0.219012</td>\n",
       "      <td>0.6</td>\n",
       "      <td>38.0</td>\n",
       "      <td>NaN</td>\n",
       "    </tr>\n",
       "    <tr>\n",
       "      <th>13</th>\n",
       "      <td>3170.0</td>\n",
       "      <td>11.3</td>\n",
       "      <td>0.200313</td>\n",
       "      <td>0.3</td>\n",
       "      <td>38.0</td>\n",
       "      <td>NaN</td>\n",
       "    </tr>\n",
       "  </tbody>\n",
       "</table>\n",
       "</div>"
      ],
      "text/plain": [
       "    STRIKE_PRC  CF_CLOSE  IMP_VOLT  WEIGHT  MATUR  MODEL_PRICE\n",
       "0       2600.0     296.7  0.364115     0.3   16.0   287.257875\n",
       "1       2680.0     226.2  0.337881     0.6   16.0   215.440642\n",
       "2       2780.0     145.0  0.302088     0.9   16.0   137.295856\n",
       "3       2880.0      74.6  0.257739     1.0   16.0    77.605712\n",
       "4       2975.0      26.6  0.214261     0.9   16.0    39.849616\n",
       "5       3070.0       5.5  0.185679     0.6   16.0    17.993327\n",
       "6       3170.0       1.2  0.189634     0.3   16.0     6.764744\n",
       "7       2600.0     324.5  0.359459     0.3   38.0          NaN\n",
       "8       2680.0     260.5  0.338659     0.6   38.0          NaN\n",
       "9       2780.0     185.9  0.309845     0.9   38.0          NaN\n",
       "10      2900.0     107.8  0.272421     1.0   38.0          NaN\n",
       "11      2980.0      65.3  0.245904     0.9   38.0          NaN\n",
       "12      3070.0      31.0  0.219012     0.6   38.0          NaN\n",
       "13      3170.0      11.3  0.200313     0.3   38.0          NaN"
      ]
     },
     "execution_count": 23,
     "metadata": {
      "tags": []
     },
     "output_type": "execute_result"
    }
   ],
   "source": [
    "df = df.append({'STRIKE_PRC': 2600 , 'CF_CLOSE': 324.5 , 'IMP_VOLT': 0.359459, 'WEIGHT': 0.3, 'MATUR':38}, ignore_index=True)\n",
    "df = df.append({'STRIKE_PRC': 2680 , 'CF_CLOSE': 260.5 , 'IMP_VOLT': 0.338659, 'WEIGHT': 0.6, 'MATUR':38}, ignore_index=True)\n",
    "df = df.append({'STRIKE_PRC': 2780 , 'CF_CLOSE': 185.9 , 'IMP_VOLT': 0.309845, 'WEIGHT': 0.9, 'MATUR':38}, ignore_index=True)\n",
    "df = df.append({'STRIKE_PRC': 2900 , 'CF_CLOSE': 107.8 , 'IMP_VOLT': 0.272421, 'WEIGHT': 1, 'MATUR':38}, ignore_index=True)\n",
    "df = df.append({'STRIKE_PRC': 2980 , 'CF_CLOSE': 65.3 , 'IMP_VOLT': 0.2459044, 'WEIGHT': 0.9, 'MATUR':38}, ignore_index=True)\n",
    "df = df.append({'STRIKE_PRC': 3070 , 'CF_CLOSE': 31 , 'IMP_VOLT': 0.2190119, 'WEIGHT': 0.6, 'MATUR':38}, ignore_index=True)\n",
    "df = df.append({'STRIKE_PRC': 3170 , 'CF_CLOSE': 11.3 , 'IMP_VOLT': 0.200313, 'WEIGHT': 0.3, 'MATUR':38}, ignore_index=True)\n",
    "df"
   ]
  },
  {
   "cell_type": "markdown",
   "metadata": {
    "colab_type": "text",
    "id": "RsTiucHNpYHM"
   },
   "source": [
    "Global optimization:"
   ]
  },
  {
   "cell_type": "code",
   "execution_count": 0,
   "metadata": {
    "colab": {
     "base_uri": "https://localhost:8080/",
     "height": 208
    },
    "colab_type": "code",
    "id": "0fDKWdxOl9o1",
    "outputId": "01f342d8-cfe7-4699-f14f-e34f50965d95"
   },
   "outputs": [
    {
     "name": "stdout",
     "output_type": "stream",
     "text": [
      "   0 | [ 0.100  0.100 -0.400  0.000] |   0.144 |   0.144\n",
      " 100 | [ 0.100  0.400 -0.300  0.080] |   0.144 |   0.144\n",
      " 200 | [ 0.100  0.700 -0.100  0.040] |   0.144 |   0.144\n",
      " 300 | [ 0.125  0.400 -0.400  0.000] |   0.125 |   0.125\n",
      " 400 | [ 0.125  0.700 -0.300  0.080] |   0.125 |   0.125\n",
      " 500 | [ 0.150  0.300 -0.100  0.040] |   0.106 |   0.106\n",
      " 600 | [ 0.150  0.700 -0.400  0.000] |   0.106 |   0.106\n",
      " 700 | [ 0.175  0.300 -0.300  0.080] |   0.088 |   0.088\n",
      " 800 | [ 0.175  0.600 -0.100  0.040] |   0.088 |   0.088\n",
      "CPU times: user 4min 18s, sys: 388 ms, total: 4min 18s\n",
      "Wall time: 4min 18s\n"
     ]
    }
   ],
   "source": [
    "%%time\n",
    "i = 0; min_RMSE = 100.\n",
    "import scipy.optimize as sop\n",
    "np.set_printoptions(suppress=True,\n",
    "                    formatter={'all': lambda x: '%6.3f' % x})\n",
    "p0 = sop.brute(M76_error_function, ((0.10, 0.2, 0.025),\n",
    "                   (0.10, 0.80, 0.10), (-0.40, 0.01, 0.10),\n",
    "                   (0.00, 0.120, 0.02)), finish=None)"
   ]
  },
  {
   "cell_type": "markdown",
   "metadata": {
    "colab_type": "text",
    "id": "y5VvE-bIpdp5"
   },
   "source": [
    "Local optimization:"
   ]
  },
  {
   "cell_type": "code",
   "execution_count": 0,
   "metadata": {
    "colab": {
     "base_uri": "https://localhost:8080/",
     "height": 156
    },
    "colab_type": "code",
    "id": "40mSwfp9mW5-",
    "outputId": "ac4b28fd-9933-4829-8589-ce0b9730ea35"
   },
   "outputs": [
    {
     "name": "stdout",
     "output_type": "stream",
     "text": [
      " 900 | [ 0.270  0.102 -0.272  0.000] |   0.043 |   0.043\n",
      "1000 | [ 0.269  0.101 -0.273  0.000] |   0.043 |   0.043\n",
      "Optimization terminated successfully.\n",
      "         Current function value: 0.042844\n",
      "         Iterations: 111\n",
      "         Function evaluations: 206\n",
      "CPU times: user 1min 1s, sys: 81.7 ms, total: 1min 1s\n",
      "Wall time: 1min 1s\n"
     ]
    }
   ],
   "source": [
    "%%time\n",
    "opt1 = sop.fmin(M76_error_function, p0, xtol=0.0000001,\n",
    "                    ftol=0.0000001, maxiter=750, maxfun=1500)"
   ]
  },
  {
   "cell_type": "code",
   "execution_count": 0,
   "metadata": {
    "colab": {},
    "colab_type": "code",
    "id": "1dQ-L7Y3mf6i"
   },
   "outputs": [],
   "source": [
    "sigma, lamb, mu, delta = opt1\n",
    "df['MODEL_PRICE_NEW'] = 0.0\n",
    "for row, option in df.iterrows():\n",
    "    T = option['MATUR'] / 252.\n",
    "    df.loc[row, 'MODEL_PRICE_NEW'] = M76_value_call_INT(ind, option['STRIKE_PRC'],\n",
    "                                T, r, sigma, lamb, mu, delta)\n"
   ]
  },
  {
   "cell_type": "code",
   "execution_count": 0,
   "metadata": {
    "colab": {
     "base_uri": "https://localhost:8080/",
     "height": 478
    },
    "colab_type": "code",
    "id": "FBbrx-jZmikj",
    "outputId": "8fc1e86d-bba0-46c0-f181-74597dd86f43"
   },
   "outputs": [
    {
     "data": {
      "text/html": [
       "<div>\n",
       "<style scoped>\n",
       "    .dataframe tbody tr th:only-of-type {\n",
       "        vertical-align: middle;\n",
       "    }\n",
       "\n",
       "    .dataframe tbody tr th {\n",
       "        vertical-align: top;\n",
       "    }\n",
       "\n",
       "    .dataframe thead th {\n",
       "        text-align: right;\n",
       "    }\n",
       "</style>\n",
       "<table border=\"1\" class=\"dataframe\">\n",
       "  <thead>\n",
       "    <tr style=\"text-align: right;\">\n",
       "      <th></th>\n",
       "      <th>STRIKE_PRC</th>\n",
       "      <th>CF_CLOSE</th>\n",
       "      <th>IMP_VOLT</th>\n",
       "      <th>WEIGHT</th>\n",
       "      <th>MATUR</th>\n",
       "      <th>MODEL_PRICE</th>\n",
       "      <th>MODEL_PRICE_NEW</th>\n",
       "    </tr>\n",
       "  </thead>\n",
       "  <tbody>\n",
       "    <tr>\n",
       "      <th>0</th>\n",
       "      <td>2600.0</td>\n",
       "      <td>296.7</td>\n",
       "      <td>0.364115</td>\n",
       "      <td>0.3</td>\n",
       "      <td>16.0</td>\n",
       "      <td>287.257875</td>\n",
       "      <td>287.811083</td>\n",
       "    </tr>\n",
       "    <tr>\n",
       "      <th>1</th>\n",
       "      <td>2680.0</td>\n",
       "      <td>226.2</td>\n",
       "      <td>0.337881</td>\n",
       "      <td>0.6</td>\n",
       "      <td>16.0</td>\n",
       "      <td>215.440642</td>\n",
       "      <td>216.553194</td>\n",
       "    </tr>\n",
       "    <tr>\n",
       "      <th>2</th>\n",
       "      <td>2780.0</td>\n",
       "      <td>145.0</td>\n",
       "      <td>0.302088</td>\n",
       "      <td>0.9</td>\n",
       "      <td>16.0</td>\n",
       "      <td>137.295856</td>\n",
       "      <td>139.143214</td>\n",
       "    </tr>\n",
       "    <tr>\n",
       "      <th>3</th>\n",
       "      <td>2880.0</td>\n",
       "      <td>74.6</td>\n",
       "      <td>0.257739</td>\n",
       "      <td>1.0</td>\n",
       "      <td>16.0</td>\n",
       "      <td>77.605712</td>\n",
       "      <td>79.826257</td>\n",
       "    </tr>\n",
       "    <tr>\n",
       "      <th>4</th>\n",
       "      <td>2975.0</td>\n",
       "      <td>26.6</td>\n",
       "      <td>0.214261</td>\n",
       "      <td>0.9</td>\n",
       "      <td>16.0</td>\n",
       "      <td>39.849616</td>\n",
       "      <td>41.892110</td>\n",
       "    </tr>\n",
       "    <tr>\n",
       "      <th>5</th>\n",
       "      <td>3070.0</td>\n",
       "      <td>5.5</td>\n",
       "      <td>0.185679</td>\n",
       "      <td>0.6</td>\n",
       "      <td>16.0</td>\n",
       "      <td>17.993327</td>\n",
       "      <td>19.494201</td>\n",
       "    </tr>\n",
       "    <tr>\n",
       "      <th>6</th>\n",
       "      <td>3170.0</td>\n",
       "      <td>1.2</td>\n",
       "      <td>0.189634</td>\n",
       "      <td>0.3</td>\n",
       "      <td>16.0</td>\n",
       "      <td>6.764744</td>\n",
       "      <td>7.636725</td>\n",
       "    </tr>\n",
       "    <tr>\n",
       "      <th>7</th>\n",
       "      <td>2600.0</td>\n",
       "      <td>324.5</td>\n",
       "      <td>0.359459</td>\n",
       "      <td>0.3</td>\n",
       "      <td>38.0</td>\n",
       "      <td>NaN</td>\n",
       "      <td>309.467052</td>\n",
       "    </tr>\n",
       "    <tr>\n",
       "      <th>8</th>\n",
       "      <td>2680.0</td>\n",
       "      <td>260.5</td>\n",
       "      <td>0.338659</td>\n",
       "      <td>0.6</td>\n",
       "      <td>38.0</td>\n",
       "      <td>NaN</td>\n",
       "      <td>247.029050</td>\n",
       "    </tr>\n",
       "    <tr>\n",
       "      <th>9</th>\n",
       "      <td>2780.0</td>\n",
       "      <td>185.9</td>\n",
       "      <td>0.309845</td>\n",
       "      <td>0.9</td>\n",
       "      <td>38.0</td>\n",
       "      <td>NaN</td>\n",
       "      <td>179.140981</td>\n",
       "    </tr>\n",
       "    <tr>\n",
       "      <th>10</th>\n",
       "      <td>2900.0</td>\n",
       "      <td>107.8</td>\n",
       "      <td>0.272421</td>\n",
       "      <td>1.0</td>\n",
       "      <td>38.0</td>\n",
       "      <td>NaN</td>\n",
       "      <td>114.513440</td>\n",
       "    </tr>\n",
       "    <tr>\n",
       "      <th>11</th>\n",
       "      <td>2980.0</td>\n",
       "      <td>65.3</td>\n",
       "      <td>0.245904</td>\n",
       "      <td>0.9</td>\n",
       "      <td>38.0</td>\n",
       "      <td>NaN</td>\n",
       "      <td>81.742955</td>\n",
       "    </tr>\n",
       "    <tr>\n",
       "      <th>12</th>\n",
       "      <td>3070.0</td>\n",
       "      <td>31.0</td>\n",
       "      <td>0.219012</td>\n",
       "      <td>0.6</td>\n",
       "      <td>38.0</td>\n",
       "      <td>NaN</td>\n",
       "      <td>53.886538</td>\n",
       "    </tr>\n",
       "    <tr>\n",
       "      <th>13</th>\n",
       "      <td>3170.0</td>\n",
       "      <td>11.3</td>\n",
       "      <td>0.200313</td>\n",
       "      <td>0.3</td>\n",
       "      <td>38.0</td>\n",
       "      <td>NaN</td>\n",
       "      <td>32.387530</td>\n",
       "    </tr>\n",
       "  </tbody>\n",
       "</table>\n",
       "</div>"
      ],
      "text/plain": [
       "    STRIKE_PRC  CF_CLOSE  IMP_VOLT  WEIGHT  MATUR  MODEL_PRICE  MODEL_PRICE_NEW\n",
       "0       2600.0     296.7  0.364115     0.3   16.0   287.257875       287.811083\n",
       "1       2680.0     226.2  0.337881     0.6   16.0   215.440642       216.553194\n",
       "2       2780.0     145.0  0.302088     0.9   16.0   137.295856       139.143214\n",
       "3       2880.0      74.6  0.257739     1.0   16.0    77.605712        79.826257\n",
       "4       2975.0      26.6  0.214261     0.9   16.0    39.849616        41.892110\n",
       "5       3070.0       5.5  0.185679     0.6   16.0    17.993327        19.494201\n",
       "6       3170.0       1.2  0.189634     0.3   16.0     6.764744         7.636725\n",
       "7       2600.0     324.5  0.359459     0.3   38.0          NaN       309.467052\n",
       "8       2680.0     260.5  0.338659     0.6   38.0          NaN       247.029050\n",
       "9       2780.0     185.9  0.309845     0.9   38.0          NaN       179.140981\n",
       "10      2900.0     107.8  0.272421     1.0   38.0          NaN       114.513440\n",
       "11      2980.0      65.3  0.245904     0.9   38.0          NaN        81.742955\n",
       "12      3070.0      31.0  0.219012     0.6   38.0          NaN        53.886538\n",
       "13      3170.0      11.3  0.200313     0.3   38.0          NaN        32.387530"
      ]
     },
     "execution_count": 27,
     "metadata": {
      "tags": []
     },
     "output_type": "execute_result"
    }
   ],
   "source": [
    "df"
   ]
  },
  {
   "cell_type": "code",
   "execution_count": 0,
   "metadata": {
    "colab": {
     "base_uri": "https://localhost:8080/",
     "height": 86
    },
    "colab_type": "code",
    "id": "wxLLvDK0rOTs",
    "outputId": "54cf3f3b-7837-422c-cec6-a47ec77642f9"
   },
   "outputs": [
    {
     "name": "stdout",
     "output_type": "stream",
     "text": [
      "new sigma = 0.26933080461483727\n",
      "new lambda = 0.1011045148377788\n",
      "new mu = -0.27314586864142343\n",
      "new delta = 0.00017528322226823106\n"
     ]
    }
   ],
   "source": [
    "print('new sigma = ' + str(opt1[0])) #constant volatility of diffusion\n",
    "print('new lambda = ' + str(opt1[1])) #jump frequency \n",
    "print('new mu = ' + str(opt1[2])) #expected jump size\n",
    "print('new delta = ' + str(opt1[3])) #jump size volatility"
   ]
  },
  {
   "cell_type": "markdown",
   "metadata": {
    "colab_type": "text",
    "id": "QixQUasNFA4P"
   },
   "source": [
    "Again, above we can observe the optimal values of parameters for fitting two curves simulataneously. These are not much different from results obtained in the question 2-c. That is, lambda has slightly increase but still is low. Probably, the simulataneous calibration on two data sets contributed to additional varition. This in turn somehow marginally add to the frequence of jump occurence. Other paramteres also remained roughly the same. \n",
    "<br>\n",
    "\n",
    "We want to emphisize the point that all the interpretations of the estimation should be treated with caution. We can identify at least two reasons for this:\n",
    "1. The sample is small\n",
    "2. Model is very sensitive to: optimization method, initial conditions and interest rate\n",
    "\n"
   ]
  },
  {
   "cell_type": "code",
   "execution_count": 0,
   "metadata": {
    "colab": {},
    "colab_type": "code",
    "id": "DfnfGQOOIVgg"
   },
   "outputs": [],
   "source": []
  }
 ],
 "metadata": {
  "colab": {
   "collapsed_sections": [],
   "name": "Problem 2.ipynb",
   "provenance": []
  },
  "kernelspec": {
   "display_name": "Python 3",
   "language": "python",
   "name": "python3"
  },
  "language_info": {
   "codemirror_mode": {
    "name": "ipython",
    "version": 3
   },
   "file_extension": ".py",
   "mimetype": "text/x-python",
   "name": "python",
   "nbconvert_exporter": "python",
   "pygments_lexer": "ipython3",
   "version": "3.8.3"
  }
 },
 "nbformat": 4,
 "nbformat_minor": 1
}
